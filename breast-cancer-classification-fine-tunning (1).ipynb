{
 "cells": [
  {
   "cell_type": "code",
   "execution_count": 1,
   "id": "0ff2d740",
   "metadata": {
    "execution": {
     "iopub.execute_input": "2024-09-16T16:26:48.655613Z",
     "iopub.status.busy": "2024-09-16T16:26:48.654865Z",
     "iopub.status.idle": "2024-09-16T16:44:26.198531Z",
     "shell.execute_reply": "2024-09-16T16:44:26.197387Z"
    },
    "papermill": {
     "duration": 1057.556114,
     "end_time": "2024-09-16T16:44:26.201850",
     "exception": false,
     "start_time": "2024-09-16T16:26:48.645736",
     "status": "completed"
    },
    "tags": []
   },
   "outputs": [
    {
     "name": "stdout",
     "output_type": "stream",
     "text": [
      "Collecting tensorflow==2.15.1 (from tensorflow[and-cuda]==2.15.1)\r\n",
      "  Downloading tensorflow-2.15.1-cp310-cp310-manylinux_2_17_x86_64.manylinux2014_x86_64.whl.metadata (4.2 kB)\r\n",
      "Requirement already satisfied: absl-py>=1.0.0 in /opt/conda/lib/python3.10/site-packages (from tensorflow==2.15.1->tensorflow[and-cuda]==2.15.1) (1.4.0)\r\n",
      "Requirement already satisfied: astunparse>=1.6.0 in /opt/conda/lib/python3.10/site-packages (from tensorflow==2.15.1->tensorflow[and-cuda]==2.15.1) (1.6.3)\r\n",
      "Requirement already satisfied: flatbuffers>=23.5.26 in /opt/conda/lib/python3.10/site-packages (from tensorflow==2.15.1->tensorflow[and-cuda]==2.15.1) (24.3.25)\r\n",
      "Requirement already satisfied: gast!=0.5.0,!=0.5.1,!=0.5.2,>=0.2.1 in /opt/conda/lib/python3.10/site-packages (from tensorflow==2.15.1->tensorflow[and-cuda]==2.15.1) (0.5.4)\r\n",
      "Requirement already satisfied: google-pasta>=0.1.1 in /opt/conda/lib/python3.10/site-packages (from tensorflow==2.15.1->tensorflow[and-cuda]==2.15.1) (0.2.0)\r\n",
      "Requirement already satisfied: h5py>=2.9.0 in /opt/conda/lib/python3.10/site-packages (from tensorflow==2.15.1->tensorflow[and-cuda]==2.15.1) (3.11.0)\r\n",
      "Requirement already satisfied: libclang>=13.0.0 in /opt/conda/lib/python3.10/site-packages (from tensorflow==2.15.1->tensorflow[and-cuda]==2.15.1) (18.1.1)\r\n",
      "Requirement already satisfied: ml-dtypes~=0.3.1 in /opt/conda/lib/python3.10/site-packages (from tensorflow==2.15.1->tensorflow[and-cuda]==2.15.1) (0.3.2)\r\n",
      "Requirement already satisfied: numpy<2.0.0,>=1.23.5 in /opt/conda/lib/python3.10/site-packages (from tensorflow==2.15.1->tensorflow[and-cuda]==2.15.1) (1.26.4)\r\n",
      "Requirement already satisfied: opt-einsum>=2.3.2 in /opt/conda/lib/python3.10/site-packages (from tensorflow==2.15.1->tensorflow[and-cuda]==2.15.1) (3.3.0)\r\n",
      "Requirement already satisfied: packaging in /opt/conda/lib/python3.10/site-packages (from tensorflow==2.15.1->tensorflow[and-cuda]==2.15.1) (21.3)\r\n",
      "Requirement already satisfied: protobuf!=4.21.0,!=4.21.1,!=4.21.2,!=4.21.3,!=4.21.4,!=4.21.5,<5.0.0dev,>=3.20.3 in /opt/conda/lib/python3.10/site-packages (from tensorflow==2.15.1->tensorflow[and-cuda]==2.15.1) (3.20.3)\r\n",
      "Requirement already satisfied: setuptools in /opt/conda/lib/python3.10/site-packages (from tensorflow==2.15.1->tensorflow[and-cuda]==2.15.1) (70.0.0)\r\n",
      "Requirement already satisfied: six>=1.12.0 in /opt/conda/lib/python3.10/site-packages (from tensorflow==2.15.1->tensorflow[and-cuda]==2.15.1) (1.16.0)\r\n",
      "Requirement already satisfied: termcolor>=1.1.0 in /opt/conda/lib/python3.10/site-packages (from tensorflow==2.15.1->tensorflow[and-cuda]==2.15.1) (2.4.0)\r\n",
      "Requirement already satisfied: typing-extensions>=3.6.6 in /opt/conda/lib/python3.10/site-packages (from tensorflow==2.15.1->tensorflow[and-cuda]==2.15.1) (4.12.2)\r\n",
      "Collecting wrapt<1.15,>=1.11.0 (from tensorflow==2.15.1->tensorflow[and-cuda]==2.15.1)\r\n",
      "  Downloading wrapt-1.14.1-cp310-cp310-manylinux_2_5_x86_64.manylinux1_x86_64.manylinux_2_17_x86_64.manylinux2014_x86_64.whl.metadata (6.7 kB)\r\n",
      "Requirement already satisfied: tensorflow-io-gcs-filesystem>=0.23.1 in /opt/conda/lib/python3.10/site-packages (from tensorflow==2.15.1->tensorflow[and-cuda]==2.15.1) (0.37.0)\r\n",
      "Requirement already satisfied: grpcio<2.0,>=1.24.3 in /opt/conda/lib/python3.10/site-packages (from tensorflow==2.15.1->tensorflow[and-cuda]==2.15.1) (1.62.2)\r\n",
      "Collecting tensorboard<2.16,>=2.15 (from tensorflow==2.15.1->tensorflow[and-cuda]==2.15.1)\r\n",
      "  Downloading tensorboard-2.15.2-py3-none-any.whl.metadata (1.7 kB)\r\n",
      "Requirement already satisfied: tensorflow-estimator<2.16,>=2.15.0 in /opt/conda/lib/python3.10/site-packages (from tensorflow==2.15.1->tensorflow[and-cuda]==2.15.1) (2.15.0)\r\n",
      "Collecting keras<2.16,>=2.15.0 (from tensorflow==2.15.1->tensorflow[and-cuda]==2.15.1)\r\n",
      "  Downloading keras-2.15.0-py3-none-any.whl.metadata (2.4 kB)\r\n",
      "Collecting nvidia-cublas-cu12==12.2.5.6 (from tensorflow[and-cuda]==2.15.1)\r\n",
      "  Downloading nvidia_cublas_cu12-12.2.5.6-py3-none-manylinux1_x86_64.whl.metadata (1.5 kB)\r\n",
      "Collecting nvidia-cuda-cupti-cu12==12.2.142 (from tensorflow[and-cuda]==2.15.1)\r\n",
      "  Downloading nvidia_cuda_cupti_cu12-12.2.142-py3-none-manylinux1_x86_64.whl.metadata (1.6 kB)\r\n",
      "Collecting nvidia-cuda-nvcc-cu12==12.2.140 (from tensorflow[and-cuda]==2.15.1)\r\n",
      "  Downloading nvidia_cuda_nvcc_cu12-12.2.140-py3-none-manylinux1_x86_64.whl.metadata (1.5 kB)\r\n",
      "Collecting nvidia-cuda-nvrtc-cu12==12.2.140 (from tensorflow[and-cuda]==2.15.1)\r\n",
      "  Downloading nvidia_cuda_nvrtc_cu12-12.2.140-py3-none-manylinux1_x86_64.whl.metadata (1.5 kB)\r\n",
      "Collecting nvidia-cuda-runtime-cu12==12.2.140 (from tensorflow[and-cuda]==2.15.1)\r\n",
      "  Downloading nvidia_cuda_runtime_cu12-12.2.140-py3-none-manylinux1_x86_64.whl.metadata (1.5 kB)\r\n",
      "Collecting nvidia-cudnn-cu12==8.9.4.25 (from tensorflow[and-cuda]==2.15.1)\r\n",
      "  Downloading nvidia_cudnn_cu12-8.9.4.25-py3-none-manylinux1_x86_64.whl.metadata (1.6 kB)\r\n",
      "Collecting nvidia-cufft-cu12==11.0.8.103 (from tensorflow[and-cuda]==2.15.1)\r\n",
      "  Downloading nvidia_cufft_cu12-11.0.8.103-py3-none-manylinux1_x86_64.whl.metadata (1.5 kB)\r\n",
      "Collecting nvidia-curand-cu12==10.3.3.141 (from tensorflow[and-cuda]==2.15.1)\r\n",
      "  Downloading nvidia_curand_cu12-10.3.3.141-py3-none-manylinux1_x86_64.whl.metadata (1.5 kB)\r\n",
      "Collecting nvidia-cusolver-cu12==11.5.2.141 (from tensorflow[and-cuda]==2.15.1)\r\n",
      "  Downloading nvidia_cusolver_cu12-11.5.2.141-py3-none-manylinux1_x86_64.whl.metadata (1.6 kB)\r\n",
      "Collecting nvidia-cusparse-cu12==12.1.2.141 (from tensorflow[and-cuda]==2.15.1)\r\n",
      "  Downloading nvidia_cusparse_cu12-12.1.2.141-py3-none-manylinux1_x86_64.whl.metadata (1.6 kB)\r\n",
      "Collecting nvidia-nccl-cu12==2.16.5 (from tensorflow[and-cuda]==2.15.1)\r\n",
      "  Downloading nvidia_nccl_cu12-2.16.5-py3-none-manylinux1_x86_64.whl.metadata (1.8 kB)\r\n",
      "Collecting nvidia-nvjitlink-cu12==12.2.140 (from tensorflow[and-cuda]==2.15.1)\r\n",
      "  Downloading nvidia_nvjitlink_cu12-12.2.140-py3-none-manylinux1_x86_64.whl.metadata (1.5 kB)\r\n",
      "Requirement already satisfied: wheel<1.0,>=0.23.0 in /opt/conda/lib/python3.10/site-packages (from astunparse>=1.6.0->tensorflow==2.15.1->tensorflow[and-cuda]==2.15.1) (0.43.0)\r\n",
      "Requirement already satisfied: google-auth<3,>=1.6.3 in /opt/conda/lib/python3.10/site-packages (from tensorboard<2.16,>=2.15->tensorflow==2.15.1->tensorflow[and-cuda]==2.15.1) (2.30.0)\r\n",
      "Requirement already satisfied: google-auth-oauthlib<2,>=0.5 in /opt/conda/lib/python3.10/site-packages (from tensorboard<2.16,>=2.15->tensorflow==2.15.1->tensorflow[and-cuda]==2.15.1) (1.2.0)\r\n",
      "Requirement already satisfied: markdown>=2.6.8 in /opt/conda/lib/python3.10/site-packages (from tensorboard<2.16,>=2.15->tensorflow==2.15.1->tensorflow[and-cuda]==2.15.1) (3.6)\r\n",
      "Requirement already satisfied: requests<3,>=2.21.0 in /opt/conda/lib/python3.10/site-packages (from tensorboard<2.16,>=2.15->tensorflow==2.15.1->tensorflow[and-cuda]==2.15.1) (2.32.3)\r\n",
      "Requirement already satisfied: tensorboard-data-server<0.8.0,>=0.7.0 in /opt/conda/lib/python3.10/site-packages (from tensorboard<2.16,>=2.15->tensorflow==2.15.1->tensorflow[and-cuda]==2.15.1) (0.7.2)\r\n",
      "Requirement already satisfied: werkzeug>=1.0.1 in /opt/conda/lib/python3.10/site-packages (from tensorboard<2.16,>=2.15->tensorflow==2.15.1->tensorflow[and-cuda]==2.15.1) (3.0.3)\r\n",
      "Requirement already satisfied: pyparsing!=3.0.5,>=2.0.2 in /opt/conda/lib/python3.10/site-packages (from packaging->tensorflow==2.15.1->tensorflow[and-cuda]==2.15.1) (3.1.2)\r\n",
      "Requirement already satisfied: cachetools<6.0,>=2.0.0 in /opt/conda/lib/python3.10/site-packages (from google-auth<3,>=1.6.3->tensorboard<2.16,>=2.15->tensorflow==2.15.1->tensorflow[and-cuda]==2.15.1) (4.2.4)\r\n",
      "Requirement already satisfied: pyasn1-modules>=0.2.1 in /opt/conda/lib/python3.10/site-packages (from google-auth<3,>=1.6.3->tensorboard<2.16,>=2.15->tensorflow==2.15.1->tensorflow[and-cuda]==2.15.1) (0.4.0)\r\n",
      "Requirement already satisfied: rsa<5,>=3.1.4 in /opt/conda/lib/python3.10/site-packages (from google-auth<3,>=1.6.3->tensorboard<2.16,>=2.15->tensorflow==2.15.1->tensorflow[and-cuda]==2.15.1) (4.9)\r\n",
      "Requirement already satisfied: requests-oauthlib>=0.7.0 in /opt/conda/lib/python3.10/site-packages (from google-auth-oauthlib<2,>=0.5->tensorboard<2.16,>=2.15->tensorflow==2.15.1->tensorflow[and-cuda]==2.15.1) (2.0.0)\r\n",
      "Requirement already satisfied: charset-normalizer<4,>=2 in /opt/conda/lib/python3.10/site-packages (from requests<3,>=2.21.0->tensorboard<2.16,>=2.15->tensorflow==2.15.1->tensorflow[and-cuda]==2.15.1) (3.3.2)\r\n",
      "Requirement already satisfied: idna<4,>=2.5 in /opt/conda/lib/python3.10/site-packages (from requests<3,>=2.21.0->tensorboard<2.16,>=2.15->tensorflow==2.15.1->tensorflow[and-cuda]==2.15.1) (3.7)\r\n",
      "Requirement already satisfied: urllib3<3,>=1.21.1 in /opt/conda/lib/python3.10/site-packages (from requests<3,>=2.21.0->tensorboard<2.16,>=2.15->tensorflow==2.15.1->tensorflow[and-cuda]==2.15.1) (1.26.18)\r\n",
      "Requirement already satisfied: certifi>=2017.4.17 in /opt/conda/lib/python3.10/site-packages (from requests<3,>=2.21.0->tensorboard<2.16,>=2.15->tensorflow==2.15.1->tensorflow[and-cuda]==2.15.1) (2024.7.4)\r\n",
      "Requirement already satisfied: MarkupSafe>=2.1.1 in /opt/conda/lib/python3.10/site-packages (from werkzeug>=1.0.1->tensorboard<2.16,>=2.15->tensorflow==2.15.1->tensorflow[and-cuda]==2.15.1) (2.1.5)\r\n",
      "Requirement already satisfied: pyasn1<0.7.0,>=0.4.6 in /opt/conda/lib/python3.10/site-packages (from pyasn1-modules>=0.2.1->google-auth<3,>=1.6.3->tensorboard<2.16,>=2.15->tensorflow==2.15.1->tensorflow[and-cuda]==2.15.1) (0.6.0)\r\n",
      "Requirement already satisfied: oauthlib>=3.0.0 in /opt/conda/lib/python3.10/site-packages (from requests-oauthlib>=0.7.0->google-auth-oauthlib<2,>=0.5->tensorboard<2.16,>=2.15->tensorflow==2.15.1->tensorflow[and-cuda]==2.15.1) (3.2.2)\r\n",
      "Downloading tensorflow-2.15.1-cp310-cp310-manylinux_2_17_x86_64.manylinux2014_x86_64.whl (475.2 MB)\r\n",
      "\u001b[2K   \u001b[90m━━━━━━━━━━━━━━━━━━━━━━━━━━━━━━━━━━━━━━━━\u001b[0m \u001b[32m475.2/475.2 MB\u001b[0m \u001b[31m1.3 MB/s\u001b[0m eta \u001b[36m0:00:00\u001b[0m\r\n",
      "\u001b[?25hDownloading nvidia_cublas_cu12-12.2.5.6-py3-none-manylinux1_x86_64.whl (417.8 MB)\r\n",
      "\u001b[2K   \u001b[90m━━━━━━━━━━━━━━━━━━━━━━━━━━━━━━━━━━━━━━━━\u001b[0m \u001b[32m417.8/417.8 MB\u001b[0m \u001b[31m1.1 MB/s\u001b[0m eta \u001b[36m0:00:00\u001b[0m\r\n",
      "\u001b[?25hDownloading nvidia_cuda_cupti_cu12-12.2.142-py3-none-manylinux1_x86_64.whl (13.9 MB)\r\n",
      "\u001b[2K   \u001b[90m━━━━━━━━━━━━━━━━━━━━━━━━━━━━━━━━━━━━━━━━\u001b[0m \u001b[32m13.9/13.9 MB\u001b[0m \u001b[31m1.9 MB/s\u001b[0m eta \u001b[36m0:00:00\u001b[0m\r\n",
      "\u001b[?25hDownloading nvidia_cuda_nvcc_cu12-12.2.140-py3-none-manylinux1_x86_64.whl (21.3 MB)\r\n",
      "\u001b[2K   \u001b[90m━━━━━━━━━━━━━━━━━━━━━━━━━━━━━━━━━━━━━━━━\u001b[0m \u001b[32m21.3/21.3 MB\u001b[0m \u001b[31m1.8 MB/s\u001b[0m eta \u001b[36m0:00:00\u001b[0m\r\n",
      "\u001b[?25hDownloading nvidia_cuda_nvrtc_cu12-12.2.140-py3-none-manylinux1_x86_64.whl (23.4 MB)\r\n",
      "\u001b[2K   \u001b[90m━━━━━━━━━━━━━━━━━━━━━━━━━━━━━━━━━━━━━━━━\u001b[0m \u001b[32m23.4/23.4 MB\u001b[0m \u001b[31m2.9 MB/s\u001b[0m eta \u001b[36m0:00:00\u001b[0m\r\n",
      "\u001b[?25hDownloading nvidia_cuda_runtime_cu12-12.2.140-py3-none-manylinux1_x86_64.whl (845 kB)\r\n",
      "\u001b[2K   \u001b[90m━━━━━━━━━━━━━━━━━━━━━━━━━━━━━━━━━━━━━━━━\u001b[0m \u001b[32m845.8/845.8 kB\u001b[0m \u001b[31m2.6 MB/s\u001b[0m eta \u001b[36m0:00:00\u001b[0m\r\n",
      "\u001b[?25hDownloading nvidia_cudnn_cu12-8.9.4.25-py3-none-manylinux1_x86_64.whl (720.1 MB)\r\n",
      "\u001b[2K   \u001b[90m━━━━━━━━━━━━━━━━━━━━━━━━━━━━━━━━━━━━━━━━\u001b[0m \u001b[32m720.1/720.1 MB\u001b[0m \u001b[31m1.2 MB/s\u001b[0m eta \u001b[36m0:00:00\u001b[0m\r\n",
      "\u001b[?25hDownloading nvidia_cufft_cu12-11.0.8.103-py3-none-manylinux1_x86_64.whl (98.6 MB)\r\n",
      "\u001b[2K   \u001b[90m━━━━━━━━━━━━━━━━━━━━━━━━━━━━━━━━━━━━━━━━\u001b[0m \u001b[32m98.6/98.6 MB\u001b[0m \u001b[31m2.4 MB/s\u001b[0m eta \u001b[36m0:00:00\u001b[0m\r\n",
      "\u001b[?25hDownloading nvidia_curand_cu12-10.3.3.141-py3-none-manylinux1_x86_64.whl (56.5 MB)\r\n",
      "\u001b[2K   \u001b[90m━━━━━━━━━━━━━━━━━━━━━━━━━━━━━━━━━━━━━━━━\u001b[0m \u001b[32m56.5/56.5 MB\u001b[0m \u001b[31m3.5 MB/s\u001b[0m eta \u001b[36m0:00:00\u001b[0m\r\n",
      "\u001b[?25hDownloading nvidia_cusolver_cu12-11.5.2.141-py3-none-manylinux1_x86_64.whl (124.9 MB)\r\n",
      "\u001b[2K   \u001b[90m━━━━━━━━━━━━━━━━━━━━━━━━━━━━━━━━━━━━━━━━\u001b[0m \u001b[32m124.9/124.9 MB\u001b[0m \u001b[31m2.7 MB/s\u001b[0m eta \u001b[36m0:00:00\u001b[0m\r\n",
      "\u001b[?25hDownloading nvidia_cusparse_cu12-12.1.2.141-py3-none-manylinux1_x86_64.whl (195.3 MB)\r\n",
      "\u001b[2K   \u001b[90m━━━━━━━━━━━━━━━━━━━━━━━━━━━━━━━━━━━━━━━━\u001b[0m \u001b[32m195.3/195.3 MB\u001b[0m \u001b[31m2.5 MB/s\u001b[0m eta \u001b[36m0:00:00\u001b[0m\r\n",
      "\u001b[?25hDownloading nvidia_nccl_cu12-2.16.5-py3-none-manylinux1_x86_64.whl (188.7 MB)\r\n",
      "\u001b[2K   \u001b[90m━━━━━━━━━━━━━━━━━━━━━━━━━━━━━━━━━━━━━━━━\u001b[0m \u001b[32m188.7/188.7 MB\u001b[0m \u001b[31m2.8 MB/s\u001b[0m eta \u001b[36m0:00:00\u001b[0m\r\n",
      "\u001b[?25hDownloading nvidia_nvjitlink_cu12-12.2.140-py3-none-manylinux1_x86_64.whl (20.2 MB)\r\n",
      "\u001b[2K   \u001b[90m━━━━━━━━━━━━━━━━━━━━━━━━━━━━━━━━━━━━━━━━\u001b[0m \u001b[32m20.2/20.2 MB\u001b[0m \u001b[31m3.3 MB/s\u001b[0m eta \u001b[36m0:00:00\u001b[0m\r\n",
      "\u001b[?25hDownloading keras-2.15.0-py3-none-any.whl (1.7 MB)\r\n",
      "\u001b[2K   \u001b[90m━━━━━━━━━━━━━━━━━━━━━━━━━━━━━━━━━━━━━━━━\u001b[0m \u001b[32m1.7/1.7 MB\u001b[0m \u001b[31m2.7 MB/s\u001b[0m eta \u001b[36m0:00:00\u001b[0m\r\n",
      "\u001b[?25hDownloading tensorboard-2.15.2-py3-none-any.whl (5.5 MB)\r\n",
      "\u001b[2K   \u001b[90m━━━━━━━━━━━━━━━━━━━━━━━━━━━━━━━━━━━━━━━━\u001b[0m \u001b[32m5.5/5.5 MB\u001b[0m \u001b[31m3.4 MB/s\u001b[0m eta \u001b[36m0:00:00\u001b[0m\r\n",
      "\u001b[?25hDownloading wrapt-1.14.1-cp310-cp310-manylinux_2_5_x86_64.manylinux1_x86_64.manylinux_2_17_x86_64.manylinux2014_x86_64.whl (77 kB)\r\n",
      "\u001b[2K   \u001b[90m━━━━━━━━━━━━━━━━━━━━━━━━━━━━━━━━━━━━━━━━\u001b[0m \u001b[32m77.9/77.9 kB\u001b[0m \u001b[31m887.9 kB/s\u001b[0m eta \u001b[36m0:00:00\u001b[0m\r\n",
      "\u001b[?25hInstalling collected packages: wrapt, nvidia-nvjitlink-cu12, nvidia-nccl-cu12, nvidia-curand-cu12, nvidia-cufft-cu12, nvidia-cuda-runtime-cu12, nvidia-cuda-nvrtc-cu12, nvidia-cuda-nvcc-cu12, nvidia-cuda-cupti-cu12, nvidia-cublas-cu12, keras, nvidia-cusparse-cu12, nvidia-cudnn-cu12, nvidia-cusolver-cu12, tensorboard, tensorflow\r\n",
      "  Attempting uninstall: wrapt\r\n",
      "    Found existing installation: wrapt 1.16.0\r\n",
      "    Uninstalling wrapt-1.16.0:\r\n",
      "      Successfully uninstalled wrapt-1.16.0\r\n",
      "  Attempting uninstall: keras\r\n",
      "    Found existing installation: keras 3.3.3\r\n",
      "    Uninstalling keras-3.3.3:\r\n",
      "      Successfully uninstalled keras-3.3.3\r\n",
      "  Attempting uninstall: tensorboard\r\n",
      "    Found existing installation: tensorboard 2.16.2\r\n",
      "    Uninstalling tensorboard-2.16.2:\r\n",
      "      Successfully uninstalled tensorboard-2.16.2\r\n",
      "  Attempting uninstall: tensorflow\r\n",
      "    Found existing installation: tensorflow 2.16.1\r\n",
      "    Uninstalling tensorflow-2.16.1:\r\n",
      "      Successfully uninstalled tensorflow-2.16.1\r\n",
      "\u001b[31mERROR: pip's dependency resolver does not currently take into account all the packages that are installed. This behaviour is the source of the following dependency conflicts.\r\n",
      "tensorflow-decision-forests 1.9.1 requires tensorflow~=2.16.1, but you have tensorflow 2.15.1 which is incompatible.\r\n",
      "tensorflow-serving-api 2.16.1 requires tensorflow<3,>=2.16.1, but you have tensorflow 2.15.1 which is incompatible.\r\n",
      "tensorflow-text 2.16.1 requires tensorflow<2.17,>=2.16.1; platform_machine != \"arm64\" or platform_system != \"Darwin\", but you have tensorflow 2.15.1 which is incompatible.\r\n",
      "tf-keras 2.16.0 requires tensorflow<2.17,>=2.16, but you have tensorflow 2.15.1 which is incompatible.\u001b[0m\u001b[31m\r\n",
      "\u001b[0mSuccessfully installed keras-2.15.0 nvidia-cublas-cu12-12.2.5.6 nvidia-cuda-cupti-cu12-12.2.142 nvidia-cuda-nvcc-cu12-12.2.140 nvidia-cuda-nvrtc-cu12-12.2.140 nvidia-cuda-runtime-cu12-12.2.140 nvidia-cudnn-cu12-8.9.4.25 nvidia-cufft-cu12-11.0.8.103 nvidia-curand-cu12-10.3.3.141 nvidia-cusolver-cu12-11.5.2.141 nvidia-cusparse-cu12-12.1.2.141 nvidia-nccl-cu12-2.16.5 nvidia-nvjitlink-cu12-12.2.140 tensorboard-2.15.2 tensorflow-2.15.1 wrapt-1.14.1\r\n"
     ]
    }
   ],
   "source": [
    "!pip install tensorflow[and-cuda]==2.15.1"
   ]
  },
  {
   "cell_type": "code",
   "execution_count": 2,
   "id": "fc51b668",
   "metadata": {
    "execution": {
     "iopub.execute_input": "2024-09-16T16:44:29.505313Z",
     "iopub.status.busy": "2024-09-16T16:44:29.504512Z",
     "iopub.status.idle": "2024-09-16T16:44:37.415908Z",
     "shell.execute_reply": "2024-09-16T16:44:37.415001Z"
    },
    "papermill": {
     "duration": 9.47669,
     "end_time": "2024-09-16T16:44:37.418156",
     "exception": false,
     "start_time": "2024-09-16T16:44:27.941466",
     "status": "completed"
    },
    "tags": []
   },
   "outputs": [
    {
     "name": "stderr",
     "output_type": "stream",
     "text": [
      "2024-09-16 16:44:30.025084: E external/local_xla/xla/stream_executor/cuda/cuda_dnn.cc:9261] Unable to register cuDNN factory: Attempting to register factory for plugin cuDNN when one has already been registered\n",
      "2024-09-16 16:44:30.025161: E external/local_xla/xla/stream_executor/cuda/cuda_fft.cc:607] Unable to register cuFFT factory: Attempting to register factory for plugin cuFFT when one has already been registered\n",
      "2024-09-16 16:44:30.026541: E external/local_xla/xla/stream_executor/cuda/cuda_blas.cc:1515] Unable to register cuBLAS factory: Attempting to register factory for plugin cuBLAS when one has already been registered\n"
     ]
    },
    {
     "data": {
      "text/plain": [
       "[PhysicalDevice(name='/physical_device:GPU:0', device_type='GPU'),\n",
       " PhysicalDevice(name='/physical_device:GPU:1', device_type='GPU')]"
      ]
     },
     "execution_count": 2,
     "metadata": {},
     "output_type": "execute_result"
    }
   ],
   "source": [
    "# To make sure we are using gpu not cpu\n",
    "import tensorflow as tf\n",
    "\n",
    "tf.config.list_physical_devices('GPU')"
   ]
  },
  {
   "cell_type": "code",
   "execution_count": 3,
   "id": "d271b9b3",
   "metadata": {
    "execution": {
     "iopub.execute_input": "2024-09-16T16:44:40.623516Z",
     "iopub.status.busy": "2024-09-16T16:44:40.622527Z",
     "iopub.status.idle": "2024-09-16T16:44:42.038395Z",
     "shell.execute_reply": "2024-09-16T16:44:42.037621Z"
    },
    "papermill": {
     "duration": 2.994955,
     "end_time": "2024-09-16T16:44:42.040684",
     "exception": false,
     "start_time": "2024-09-16T16:44:39.045729",
     "status": "completed"
    },
    "tags": []
   },
   "outputs": [],
   "source": [
    "import matplotlib.pyplot as plt\n",
    "import seaborn as sns\n",
    "\n",
    "import numpy as np\n",
    "\n",
    "from tensorflow import keras\n",
    "from tensorflow.keras.models import Sequential\n",
    "from tensorflow.keras.layers import Dense, Conv2D, Flatten , Dropout , BatchNormalization, MaxPooling2D, GlobalAveragePooling2D, SpatialDropout2D\n",
    "from tensorflow.keras.preprocessing.image import ImageDataGenerator\n",
    "from tensorflow.keras.callbacks import Callback, ModelCheckpoint, CSVLogger, EarlyStopping\n",
    "\n",
    "from sklearn.metrics import classification_report,confusion_matrix"
   ]
  },
  {
   "cell_type": "code",
   "execution_count": 4,
   "id": "832ffb9d",
   "metadata": {
    "execution": {
     "iopub.execute_input": "2024-09-16T16:44:45.126918Z",
     "iopub.status.busy": "2024-09-16T16:44:45.126239Z",
     "iopub.status.idle": "2024-09-16T16:44:45.132945Z",
     "shell.execute_reply": "2024-09-16T16:44:45.132130Z"
    },
    "papermill": {
     "duration": 1.57846,
     "end_time": "2024-09-16T16:44:45.134826",
     "exception": false,
     "start_time": "2024-09-16T16:44:43.556366",
     "status": "completed"
    },
    "tags": []
   },
   "outputs": [
    {
     "data": {
      "text/plain": [
       "'2.15.1'"
      ]
     },
     "execution_count": 4,
     "metadata": {},
     "output_type": "execute_result"
    }
   ],
   "source": [
    "tf.__version__"
   ]
  },
  {
   "cell_type": "code",
   "execution_count": 5,
   "id": "be04c881",
   "metadata": {
    "execution": {
     "iopub.execute_input": "2024-09-16T16:44:48.292730Z",
     "iopub.status.busy": "2024-09-16T16:44:48.292381Z",
     "iopub.status.idle": "2024-09-16T16:44:48.296813Z",
     "shell.execute_reply": "2024-09-16T16:44:48.295968Z"
    },
    "papermill": {
     "duration": 1.594043,
     "end_time": "2024-09-16T16:44:48.298657",
     "exception": false,
     "start_time": "2024-09-16T16:44:46.704614",
     "status": "completed"
    },
    "tags": []
   },
   "outputs": [],
   "source": [
    "datagen = ImageDataGenerator(rescale = 1./255)"
   ]
  },
  {
   "cell_type": "code",
   "execution_count": 6,
   "id": "c6ceb83e",
   "metadata": {
    "execution": {
     "iopub.execute_input": "2024-09-16T16:44:51.498841Z",
     "iopub.status.busy": "2024-09-16T16:44:51.498448Z",
     "iopub.status.idle": "2024-09-16T16:44:53.470766Z",
     "shell.execute_reply": "2024-09-16T16:44:53.469836Z"
    },
    "papermill": {
     "duration": 3.60688,
     "end_time": "2024-09-16T16:44:53.472940",
     "exception": false,
     "start_time": "2024-09-16T16:44:49.866060",
     "status": "completed"
    },
    "tags": []
   },
   "outputs": [
    {
     "name": "stdout",
     "output_type": "stream",
     "text": [
      "Found 3132 images belonging to 2 classes.\n",
      "Found 131 images belonging to 2 classes.\n"
     ]
    }
   ],
   "source": [
    "\n",
    "train = datagen.flow_from_directory('/kaggle/input/breast-mammography-private/train', target_size=(224, 224), class_mode='binary', batch_size=256)\n",
    "# load and iterate validation dataset\n",
    "# val = datagen.flow_from_directory('/kaggle/input/breast-mammography-ori/public/val', target_size=(224, 224), class_mode='binary', batch_size=16)\n",
    "# load and iterate test dataset\n",
    "test = datagen.flow_from_directory('/kaggle/input/breast-mammography-private/test', target_size=(224, 224), class_mode='binary', batch_size=8)"
   ]
  },
  {
   "cell_type": "code",
   "execution_count": 7,
   "id": "092cb893",
   "metadata": {
    "execution": {
     "iopub.execute_input": "2024-09-16T16:44:56.601212Z",
     "iopub.status.busy": "2024-09-16T16:44:56.600557Z",
     "iopub.status.idle": "2024-09-16T16:44:56.605010Z",
     "shell.execute_reply": "2024-09-16T16:44:56.604161Z"
    },
    "papermill": {
     "duration": 1.58342,
     "end_time": "2024-09-16T16:44:56.607011",
     "exception": false,
     "start_time": "2024-09-16T16:44:55.023591",
     "status": "completed"
    },
    "tags": []
   },
   "outputs": [],
   "source": [
    "STEP_SIZE_TRAIN = train.n//train.batch_size\n",
    "STEP_SIZE_VAL = test.n//test.batch_size"
   ]
  },
  {
   "cell_type": "code",
   "execution_count": 8,
   "id": "ea444315",
   "metadata": {
    "execution": {
     "iopub.execute_input": "2024-09-16T16:44:59.759250Z",
     "iopub.status.busy": "2024-09-16T16:44:59.758841Z",
     "iopub.status.idle": "2024-09-16T16:45:00.603033Z",
     "shell.execute_reply": "2024-09-16T16:45:00.602167Z"
    },
    "papermill": {
     "duration": 2.423256,
     "end_time": "2024-09-16T16:45:00.605262",
     "exception": false,
     "start_time": "2024-09-16T16:44:58.182006",
     "status": "completed"
    },
    "tags": []
   },
   "outputs": [],
   "source": [
    "steps = test.n//test.batch_size\n",
    "\n",
    "test.reset()\n",
    "X_test, y_test = [], []\n",
    "for i in range(steps+1):\n",
    "    a , b = test.next()\n",
    "    X_test.extend(a) \n",
    "    y_test.extend(b)"
   ]
  },
  {
   "cell_type": "code",
   "execution_count": 9,
   "id": "88376317",
   "metadata": {
    "execution": {
     "iopub.execute_input": "2024-09-16T16:45:03.710309Z",
     "iopub.status.busy": "2024-09-16T16:45:03.709927Z",
     "iopub.status.idle": "2024-09-16T16:45:03.738815Z",
     "shell.execute_reply": "2024-09-16T16:45:03.737817Z"
    },
    "papermill": {
     "duration": 1.558615,
     "end_time": "2024-09-16T16:45:03.740836",
     "exception": false,
     "start_time": "2024-09-16T16:45:02.182221",
     "status": "completed"
    },
    "tags": []
   },
   "outputs": [
    {
     "name": "stdout",
     "output_type": "stream",
     "text": [
      "(131, 224, 224, 3) (131,)\n"
     ]
    }
   ],
   "source": [
    "X_test, y_test = np.array(X_test), np.array(y_test)\n",
    "print(X_test.shape, y_test.shape)"
   ]
  },
  {
   "cell_type": "code",
   "execution_count": 10,
   "id": "5d17ea61",
   "metadata": {
    "execution": {
     "iopub.execute_input": "2024-09-16T16:45:06.846427Z",
     "iopub.status.busy": "2024-09-16T16:45:06.846024Z",
     "iopub.status.idle": "2024-09-16T16:45:06.850614Z",
     "shell.execute_reply": "2024-09-16T16:45:06.849730Z"
    },
    "papermill": {
     "duration": 1.563164,
     "end_time": "2024-09-16T16:45:06.852470",
     "exception": false,
     "start_time": "2024-09-16T16:45:05.289306",
     "status": "completed"
    },
    "tags": []
   },
   "outputs": [],
   "source": [
    "from keras.applications import DenseNet121"
   ]
  },
  {
   "cell_type": "code",
   "execution_count": 11,
   "id": "72398f17",
   "metadata": {
    "execution": {
     "iopub.execute_input": "2024-09-16T16:45:09.987485Z",
     "iopub.status.busy": "2024-09-16T16:45:09.986999Z",
     "iopub.status.idle": "2024-09-16T16:45:09.996794Z",
     "shell.execute_reply": "2024-09-16T16:45:09.995695Z"
    },
    "papermill": {
     "duration": 1.586733,
     "end_time": "2024-09-16T16:45:09.999239",
     "exception": false,
     "start_time": "2024-09-16T16:45:08.412506",
     "status": "completed"
    },
    "tags": []
   },
   "outputs": [],
   "source": [
    "def get_compiled_model():\n",
    "    backbone2 = DenseNet121(input_shape = (224, 224, 3), include_top=False, weights='imagenet')\n",
    "    backbone2.trainable = True\n",
    "    set_trainable = False\n",
    "    for layer in backbone2.layers:\n",
    "        if layer.name == 'block4_conv1':\n",
    "            set_trainable = True\n",
    "        if set_trainable:\n",
    "            layer.trainable = True\n",
    "        else:\n",
    "            layer.trainable = False\n",
    "    \n",
    "    VGG_model_2 = Sequential()\n",
    "    VGG_model_2.add(backbone2)\n",
    "    VGG_model_2.add(GlobalAveragePooling2D())\n",
    "    VGG_model_2.add(BatchNormalization())\n",
    "    VGG_model_2.add(Dropout(0.5))\n",
    "    VGG_model_2.add(Dense(1, activation='sigmoid'))\n",
    "    \n",
    "    VGG_model_2.compile(\n",
    "            loss='binary_crossentropy',\n",
    "            optimizer=tf.keras.optimizers.Adam(learning_rate=0.00005),\n",
    "            metrics=['accuracy']\n",
    "        )\n",
    "    \n",
    "    return VGG_model_2\n",
    "    "
   ]
  },
  {
   "cell_type": "code",
   "execution_count": 12,
   "id": "836ccaa9",
   "metadata": {
    "execution": {
     "iopub.execute_input": "2024-09-16T16:45:13.154480Z",
     "iopub.status.busy": "2024-09-16T16:45:13.153736Z",
     "iopub.status.idle": "2024-09-16T16:45:13.960401Z",
     "shell.execute_reply": "2024-09-16T16:45:13.959375Z"
    },
    "papermill": {
     "duration": 2.331883,
     "end_time": "2024-09-16T16:45:13.962434",
     "exception": false,
     "start_time": "2024-09-16T16:45:11.630551",
     "status": "completed"
    },
    "tags": []
   },
   "outputs": [
    {
     "name": "stdout",
     "output_type": "stream",
     "text": [
      "Number of devices: 2\n"
     ]
    }
   ],
   "source": [
    "strategy = tf.distribute.MirroredStrategy()\n",
    "print(\"Number of devices: {}\".format(strategy.num_replicas_in_sync))"
   ]
  },
  {
   "cell_type": "code",
   "execution_count": 13,
   "id": "7c70de2d",
   "metadata": {
    "execution": {
     "iopub.execute_input": "2024-09-16T16:45:17.083231Z",
     "iopub.status.busy": "2024-09-16T16:45:17.082553Z",
     "iopub.status.idle": "2024-09-16T16:45:27.335922Z",
     "shell.execute_reply": "2024-09-16T16:45:27.335151Z"
    },
    "papermill": {
     "duration": 11.823267,
     "end_time": "2024-09-16T16:45:27.338289",
     "exception": false,
     "start_time": "2024-09-16T16:45:15.515022",
     "status": "completed"
    },
    "tags": []
   },
   "outputs": [
    {
     "name": "stdout",
     "output_type": "stream",
     "text": [
      "Downloading data from https://storage.googleapis.com/tensorflow/keras-applications/densenet/densenet121_weights_tf_dim_ordering_tf_kernels_notop.h5\n",
      "29084464/29084464 [==============================] - 0s 0us/step\n"
     ]
    }
   ],
   "source": [
    "with strategy.scope():\n",
    "\n",
    "    model = get_compiled_model()"
   ]
  },
  {
   "cell_type": "code",
   "execution_count": 14,
   "id": "e634e6fc",
   "metadata": {
    "execution": {
     "iopub.execute_input": "2024-09-16T16:45:30.468881Z",
     "iopub.status.busy": "2024-09-16T16:45:30.468146Z",
     "iopub.status.idle": "2024-09-16T16:45:30.532043Z",
     "shell.execute_reply": "2024-09-16T16:45:30.531189Z"
    },
    "papermill": {
     "duration": 1.638368,
     "end_time": "2024-09-16T16:45:30.534101",
     "exception": false,
     "start_time": "2024-09-16T16:45:28.895733",
     "status": "completed"
    },
    "tags": []
   },
   "outputs": [
    {
     "name": "stdout",
     "output_type": "stream",
     "text": [
      "Model: \"sequential\"\n",
      "_________________________________________________________________\n",
      " Layer (type)                Output Shape              Param #   \n",
      "=================================================================\n",
      " densenet121 (Functional)    (None, 7, 7, 1024)        7037504   \n",
      "                                                                 \n",
      " global_average_pooling2d (  (None, 1024)              0         \n",
      " GlobalAveragePooling2D)                                         \n",
      "                                                                 \n",
      " batch_normalization (Batch  (None, 1024)              4096      \n",
      " Normalization)                                                  \n",
      "                                                                 \n",
      " dropout (Dropout)           (None, 1024)              0         \n",
      "                                                                 \n",
      " dense (Dense)               (None, 1)                 1025      \n",
      "                                                                 \n",
      "=================================================================\n",
      "Total params: 7042625 (26.87 MB)\n",
      "Trainable params: 3073 (12.00 KB)\n",
      "Non-trainable params: 7039552 (26.85 MB)\n",
      "_________________________________________________________________\n"
     ]
    }
   ],
   "source": [
    "model.summary()"
   ]
  },
  {
   "cell_type": "code",
   "execution_count": 15,
   "id": "eca6e9b1",
   "metadata": {
    "execution": {
     "iopub.execute_input": "2024-09-16T16:45:33.631475Z",
     "iopub.status.busy": "2024-09-16T16:45:33.630754Z",
     "iopub.status.idle": "2024-09-16T16:48:33.191894Z",
     "shell.execute_reply": "2024-09-16T16:48:33.191135Z"
    },
    "papermill": {
     "duration": 181.075351,
     "end_time": "2024-09-16T16:48:33.193951",
     "exception": false,
     "start_time": "2024-09-16T16:45:32.118600",
     "status": "completed"
    },
    "tags": []
   },
   "outputs": [
    {
     "name": "stdout",
     "output_type": "stream",
     "text": [
      "Epoch 1/10\n"
     ]
    },
    {
     "name": "stderr",
     "output_type": "stream",
     "text": [
      "WARNING: All log messages before absl::InitializeLog() is called are written to STDERR\n",
      "I0000 00:00:1726505166.226084     106 device_compiler.h:186] Compiled cluster using XLA!  This line is logged at most once for the lifetime of the process.\n"
     ]
    },
    {
     "name": "stdout",
     "output_type": "stream",
     "text": [
      "12/12 [==============================] - 53s 2s/step - loss: 1.1596 - accuracy: 0.4124 - val_loss: 0.7112 - val_accuracy: 0.6797\n",
      "Epoch 2/10\n",
      "12/12 [==============================] - 13s 1s/step - loss: 1.1245 - accuracy: 0.4232 - val_loss: 0.6658 - val_accuracy: 0.7031\n",
      "Epoch 3/10\n",
      "12/12 [==============================] - 14s 1s/step - loss: 1.0919 - accuracy: 0.4364 - val_loss: 0.6926 - val_accuracy: 0.6875\n",
      "Epoch 4/10\n",
      "12/12 [==============================] - 14s 1s/step - loss: 1.0554 - accuracy: 0.4426 - val_loss: 0.6752 - val_accuracy: 0.6953\n",
      "Epoch 5/10\n",
      "12/12 [==============================] - 14s 1s/step - loss: 1.0276 - accuracy: 0.4611 - val_loss: 0.6643 - val_accuracy: 0.6953\n",
      "Epoch 6/10\n",
      "12/12 [==============================] - 13s 1s/step - loss: 1.0285 - accuracy: 0.4548 - val_loss: 0.6601 - val_accuracy: 0.7031\n",
      "Epoch 7/10\n",
      "12/12 [==============================] - 14s 1s/step - loss: 0.9843 - accuracy: 0.4656 - val_loss: 0.6507 - val_accuracy: 0.7031\n",
      "Epoch 8/10\n",
      "12/12 [==============================] - 14s 1s/step - loss: 0.9578 - accuracy: 0.4934 - val_loss: 0.6551 - val_accuracy: 0.6953\n",
      "Epoch 9/10\n",
      "12/12 [==============================] - 14s 1s/step - loss: 0.9395 - accuracy: 0.4889 - val_loss: 0.6481 - val_accuracy: 0.6953\n",
      "Epoch 10/10\n",
      "12/12 [==============================] - 14s 1s/step - loss: 0.9099 - accuracy: 0.5049 - val_loss: 0.6451 - val_accuracy: 0.6953\n"
     ]
    }
   ],
   "source": [
    "history = model.fit(train, \n",
    "                    steps_per_epoch=STEP_SIZE_TRAIN, \n",
    "                    validation_data=test,\n",
    "                    validation_steps=STEP_SIZE_VAL,\n",
    "                    epochs=10)\n"
   ]
  },
  {
   "cell_type": "code",
   "execution_count": 16,
   "id": "28b687ba",
   "metadata": {
    "execution": {
     "iopub.execute_input": "2024-09-16T16:48:36.297283Z",
     "iopub.status.busy": "2024-09-16T16:48:36.296261Z",
     "iopub.status.idle": "2024-09-16T16:48:43.259204Z",
     "shell.execute_reply": "2024-09-16T16:48:43.258066Z"
    },
    "papermill": {
     "duration": 8.533473,
     "end_time": "2024-09-16T16:48:43.261379",
     "exception": false,
     "start_time": "2024-09-16T16:48:34.727906",
     "status": "completed"
    },
    "tags": []
   },
   "outputs": [
    {
     "name": "stdout",
     "output_type": "stream",
     "text": [
      "Test loss: 0.6353731751441956 / Test accuracy: 0.7022900581359863\n"
     ]
    }
   ],
   "source": [
    "score2 = model.evaluate(X_test, y_test, verbose=0)\n",
    "print(f'Test loss: {score2[0]} / Test accuracy: {score2[1]}')"
   ]
  },
  {
   "cell_type": "code",
   "execution_count": 17,
   "id": "0f93241e",
   "metadata": {
    "execution": {
     "iopub.execute_input": "2024-09-16T16:48:46.439864Z",
     "iopub.status.busy": "2024-09-16T16:48:46.438984Z",
     "iopub.status.idle": "2024-09-16T16:48:51.903674Z",
     "shell.execute_reply": "2024-09-16T16:48:51.902704Z"
    },
    "papermill": {
     "duration": 7.078333,
     "end_time": "2024-09-16T16:48:51.906104",
     "exception": false,
     "start_time": "2024-09-16T16:48:44.827771",
     "status": "completed"
    },
    "tags": []
   },
   "outputs": [
    {
     "name": "stdout",
     "output_type": "stream",
     "text": [
      "5/5 [==============================] - 5s 68ms/step\n"
     ]
    }
   ],
   "source": [
    "y_pred_prob_3 = model.predict(X_test)"
   ]
  },
  {
   "cell_type": "code",
   "execution_count": 18,
   "id": "b07054ab",
   "metadata": {
    "execution": {
     "iopub.execute_input": "2024-09-16T16:48:55.104083Z",
     "iopub.status.busy": "2024-09-16T16:48:55.103409Z",
     "iopub.status.idle": "2024-09-16T16:48:55.112208Z",
     "shell.execute_reply": "2024-09-16T16:48:55.111351Z"
    },
    "papermill": {
     "duration": 1.589845,
     "end_time": "2024-09-16T16:48:55.114076",
     "exception": false,
     "start_time": "2024-09-16T16:48:53.524231",
     "status": "completed"
    },
    "tags": []
   },
   "outputs": [
    {
     "data": {
      "text/plain": [
       "array([0, 0, 0, 0, 0, 0, 0, 0, 0, 0, 0, 0, 0, 0, 0, 0, 0, 0, 0, 0, 0, 0,\n",
       "       0, 0, 0, 0, 0, 0, 0, 0, 0, 0, 0, 0, 1, 0, 0, 0, 0, 0, 0, 0, 0, 0,\n",
       "       0, 0, 0, 0, 0, 0, 0, 0, 0, 0, 0, 1, 0, 0, 0, 0, 0, 0, 0, 0, 0, 0,\n",
       "       0, 0, 0, 0, 0, 0, 0, 0, 0, 0, 0, 0, 0, 0, 0, 0, 0, 0, 0, 0, 0, 0,\n",
       "       0, 0, 0, 0, 0, 0, 0, 0, 0, 0, 0, 0, 0, 0, 0, 0, 0, 0, 0, 0, 0, 0,\n",
       "       0, 0, 0, 0, 0, 0, 0, 0, 0, 0, 0, 0, 0, 0, 0, 0, 0, 0, 0, 0, 0])"
      ]
     },
     "execution_count": 18,
     "metadata": {},
     "output_type": "execute_result"
    }
   ],
   "source": [
    "threshold = 0.5\n",
    "y_pred_3 = np.where(y_pred_prob_3 > threshold, 1,0)\n",
    "y_pred_3.squeeze()"
   ]
  },
  {
   "cell_type": "code",
   "execution_count": 19,
   "id": "e689f25a",
   "metadata": {
    "execution": {
     "iopub.execute_input": "2024-09-16T16:48:58.213210Z",
     "iopub.status.busy": "2024-09-16T16:48:58.212532Z",
     "iopub.status.idle": "2024-09-16T16:48:58.632354Z",
     "shell.execute_reply": "2024-09-16T16:48:58.631467Z"
    },
    "papermill": {
     "duration": 1.948567,
     "end_time": "2024-09-16T16:48:58.634615",
     "exception": false,
     "start_time": "2024-09-16T16:48:56.686048",
     "status": "completed"
    },
    "tags": []
   },
   "outputs": [
    {
     "data": {
      "text/plain": [
       "Text(0.5, 1.0, 'Confusion Metrix for Breast Cancer')"
      ]
     },
     "execution_count": 19,
     "metadata": {},
     "output_type": "execute_result"
    },
    {
     "data": {
      "image/png": "[encoded data removed]",
      "text/plain": [
       "<Figure size 770x627 with 2 Axes>"
      ]
     },
     "metadata": {},
     "output_type": "display_data"
    }
   ],
   "source": [
    "sns.set(rc={'figure.figsize':(7.7,6.27)})\n",
    "\n",
    "sns.heatmap(confusion_matrix(y_test,y_pred_3),cmap=plt.cm.Blues,annot=True,annot_kws={\"size\": 32}, fmt='g')\n",
    "plt.xticks([0.50,1.50], ['no cancer (0)','cancer (1)'], fontsize=20)\n",
    "plt.yticks([0.50,1.50],['no cancer (0)','cancer (1)'], fontsize=20)\n",
    "\n",
    "plt.ylabel('True label')\n",
    "plt.xlabel('Predicted label')\n",
    "\n",
    "plt.title('Confusion Metrix for Breast Cancer')"
   ]
  },
  {
   "cell_type": "code",
   "execution_count": 20,
   "id": "63464013",
   "metadata": {
    "execution": {
     "iopub.execute_input": "2024-09-16T16:49:01.800726Z",
     "iopub.status.busy": "2024-09-16T16:49:01.799858Z",
     "iopub.status.idle": "2024-09-16T16:49:01.813189Z",
     "shell.execute_reply": "2024-09-16T16:49:01.812186Z"
    },
    "papermill": {
     "duration": 1.60505,
     "end_time": "2024-09-16T16:49:01.815057",
     "exception": false,
     "start_time": "2024-09-16T16:49:00.210007",
     "status": "completed"
    },
    "tags": []
   },
   "outputs": [
    {
     "name": "stdout",
     "output_type": "stream",
     "text": [
      "                     precision    recall  f1-score   support\n",
      "\n",
      "No cancer (Class 0)       0.70      1.00      0.82        90\n",
      "   cancer (Class 1)       1.00      0.05      0.09        41\n",
      "\n",
      "           accuracy                           0.70       131\n",
      "          macro avg       0.85      0.52      0.46       131\n",
      "       weighted avg       0.79      0.70      0.59       131\n",
      "\n"
     ]
    }
   ],
   "source": [
    "print(classification_report(y_test, y_pred_3, target_names = ['No cancer (Class 0)','cancer (Class 1)']))"
   ]
  },
  {
   "cell_type": "code",
   "execution_count": null,
   "id": "132fcb88",
   "metadata": {
    "papermill": {
     "duration": 1.527913,
     "end_time": "2024-09-16T16:49:04.929269",
     "exception": false,
     "start_time": "2024-09-16T16:49:03.401356",
     "status": "completed"
    },
    "tags": []
   },
   "outputs": [],
   "source": []
  },
  {
   "cell_type": "code",
   "execution_count": null,
   "id": "1ec60ff5",
   "metadata": {
    "papermill": {
     "duration": 1.562021,
     "end_time": "2024-09-16T16:49:08.057467",
     "exception": false,
     "start_time": "2024-09-16T16:49:06.495446",
     "status": "completed"
    },
    "tags": []
   },
   "outputs": [],
   "source": []
  }
 ],
 "metadata": {
  "kaggle": {
   "accelerator": "nvidiaTeslaT4",
   "dataSources": [
    {
     "datasetId": 5650691,
     "sourceId": 9327002,
     "sourceType": "datasetVersion"
    },
    {
     "datasetId": 5701253,
     "sourceId": 9394158,
     "sourceType": "datasetVersion"
    },
    {
     "datasetId": 5701962,
     "sourceId": 9395105,
     "sourceType": "datasetVersion"
    },
    {
     "datasetId": 5702181,
     "sourceId": 9395375,
     "sourceType": "datasetVersion"
    },
    {
     "datasetId": 5710310,
     "sourceId": 9405463,
     "sourceType": "datasetVersion"
    }
   ],
   "dockerImageVersionId": 30761,
   "isGpuEnabled": true,
   "isInternetEnabled": true,
   "language": "python",
   "sourceType": "notebook"
  },
  "kernelspec": {
   "display_name": "Python 3",
   "language": "python",
   "name": "python3"
  },
  "language_info": {
   "codemirror_mode": {
    "name": "ipython",
    "version": 3
   },
   "file_extension": ".py",
   "mimetype": "text/x-python",
   "name": "python",
   "nbconvert_exporter": "python",
   "pygments_lexer": "ipython3",
   "version": "3.10.14"
  },
  "papermill": {
   "default_parameters": {},
   "duration": 1347.711529,
   "end_time": "2024-09-16T16:49:13.333043",
   "environment_variables": {},
   "exception": null,
   "input_path": "__notebook__.ipynb",
   "output_path": "__notebook__.ipynb",
   "parameters": {},
   "start_time": "2024-09-16T16:26:45.621514",
   "version": "2.6.0"
  }
 },
 "nbformat": 4,
 "nbformat_minor": 5
}
